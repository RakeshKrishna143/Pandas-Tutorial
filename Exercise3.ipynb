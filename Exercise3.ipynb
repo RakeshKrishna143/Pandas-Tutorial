{
 "metadata": {
  "language_info": {
   "codemirror_mode": {
    "name": "ipython",
    "version": 3
   },
   "file_extension": ".py",
   "mimetype": "text/x-python",
   "name": "python",
   "nbconvert_exporter": "python",
   "pygments_lexer": "ipython3",
   "version": 3
  },
  "orig_nbformat": 2,
  "kernelspec": {
   "name": "python_defaultSpec_1595178237276",
   "display_name": "Python 3.6.8 64-bit"
  }
 },
 "nbformat": 4,
 "nbformat_minor": 2,
 "cells": [
  {
   "cell_type": "code",
   "execution_count": 1,
   "metadata": {},
   "outputs": [],
   "source": [
    "import pandas as pd "
   ]
  },
  {
   "cell_type": "code",
   "execution_count": 2,
   "metadata": {},
   "outputs": [
    {
     "output_type": "execute_result",
     "data": {
      "text/plain": "            Date    Open      High     Low   Close    Volume\n0       1/4/2010  213.43  214.5000  212.38  214.01  17633200\n1       1/5/2010  214.60  215.5900  213.25  214.38  21496600\n2       1/6/2010  214.38  215.2300  210.75  210.97  19720000\n3       1/7/2010  211.75  212.0000  209.05  210.58  17040400\n4       1/8/2010  210.30  212.0000  209.06  211.98  15986100\n...          ...     ...       ...     ...     ...       ...\n1757  12/23/2016  115.59  116.5200  115.59  116.52  14249484\n1758  12/27/2016  116.52  117.8000  116.49  117.26  18296855\n1759  12/28/2016  117.52  118.0166  116.20  116.76  20905892\n1760  12/29/2016  116.45  117.1095  116.40  116.73  15039519\n1761  12/30/2016  116.65  117.2000  115.43  115.82  30586265\n\n[1762 rows x 6 columns]",
      "text/html": "<div>\n<style scoped>\n    .dataframe tbody tr th:only-of-type {\n        vertical-align: middle;\n    }\n\n    .dataframe tbody tr th {\n        vertical-align: top;\n    }\n\n    .dataframe thead th {\n        text-align: right;\n    }\n</style>\n<table border=\"1\" class=\"dataframe\">\n  <thead>\n    <tr style=\"text-align: right;\">\n      <th></th>\n      <th>Date</th>\n      <th>Open</th>\n      <th>High</th>\n      <th>Low</th>\n      <th>Close</th>\n      <th>Volume</th>\n    </tr>\n  </thead>\n  <tbody>\n    <tr>\n      <th>0</th>\n      <td>1/4/2010</td>\n      <td>213.43</td>\n      <td>214.5000</td>\n      <td>212.38</td>\n      <td>214.01</td>\n      <td>17633200</td>\n    </tr>\n    <tr>\n      <th>1</th>\n      <td>1/5/2010</td>\n      <td>214.60</td>\n      <td>215.5900</td>\n      <td>213.25</td>\n      <td>214.38</td>\n      <td>21496600</td>\n    </tr>\n    <tr>\n      <th>2</th>\n      <td>1/6/2010</td>\n      <td>214.38</td>\n      <td>215.2300</td>\n      <td>210.75</td>\n      <td>210.97</td>\n      <td>19720000</td>\n    </tr>\n    <tr>\n      <th>3</th>\n      <td>1/7/2010</td>\n      <td>211.75</td>\n      <td>212.0000</td>\n      <td>209.05</td>\n      <td>210.58</td>\n      <td>17040400</td>\n    </tr>\n    <tr>\n      <th>4</th>\n      <td>1/8/2010</td>\n      <td>210.30</td>\n      <td>212.0000</td>\n      <td>209.06</td>\n      <td>211.98</td>\n      <td>15986100</td>\n    </tr>\n    <tr>\n      <th>...</th>\n      <td>...</td>\n      <td>...</td>\n      <td>...</td>\n      <td>...</td>\n      <td>...</td>\n      <td>...</td>\n    </tr>\n    <tr>\n      <th>1757</th>\n      <td>12/23/2016</td>\n      <td>115.59</td>\n      <td>116.5200</td>\n      <td>115.59</td>\n      <td>116.52</td>\n      <td>14249484</td>\n    </tr>\n    <tr>\n      <th>1758</th>\n      <td>12/27/2016</td>\n      <td>116.52</td>\n      <td>117.8000</td>\n      <td>116.49</td>\n      <td>117.26</td>\n      <td>18296855</td>\n    </tr>\n    <tr>\n      <th>1759</th>\n      <td>12/28/2016</td>\n      <td>117.52</td>\n      <td>118.0166</td>\n      <td>116.20</td>\n      <td>116.76</td>\n      <td>20905892</td>\n    </tr>\n    <tr>\n      <th>1760</th>\n      <td>12/29/2016</td>\n      <td>116.45</td>\n      <td>117.1095</td>\n      <td>116.40</td>\n      <td>116.73</td>\n      <td>15039519</td>\n    </tr>\n    <tr>\n      <th>1761</th>\n      <td>12/30/2016</td>\n      <td>116.65</td>\n      <td>117.2000</td>\n      <td>115.43</td>\n      <td>115.82</td>\n      <td>30586265</td>\n    </tr>\n  </tbody>\n</table>\n<p>1762 rows × 6 columns</p>\n</div>"
     },
     "metadata": {},
     "execution_count": 2
    }
   ],
   "source": [
    "pd.read_csv('https://raw.githubusercontent.com/RakeshKrishna143/Pandas-Tutorial/master/Apple%20Dataset.csv')"
   ]
  },
  {
   "cell_type": "code",
   "execution_count": 3,
   "metadata": {},
   "outputs": [],
   "source": [
    "a = pd.read_csv('https://raw.githubusercontent.com/RakeshKrishna143/Pandas-Tutorial/master/Apple%20Dataset.csv')"
   ]
  },
  {
   "cell_type": "code",
   "execution_count": 4,
   "metadata": {},
   "outputs": [
    {
     "output_type": "execute_result",
     "data": {
      "text/plain": "(1762, 6)"
     },
     "metadata": {},
     "execution_count": 4
    }
   ],
   "source": [
    "a.shape"
   ]
  },
  {
   "cell_type": "code",
   "execution_count": 5,
   "metadata": {},
   "outputs": [
    {
     "output_type": "execute_result",
     "data": {
      "text/plain": "Date       object\nOpen      float64\nHigh      float64\nLow       float64\nClose     float64\nVolume      int64\ndtype: object"
     },
     "metadata": {},
     "execution_count": 5
    }
   ],
   "source": [
    "a.dtypes"
   ]
  },
  {
   "cell_type": "code",
   "execution_count": 6,
   "metadata": {},
   "outputs": [
    {
     "output_type": "execute_result",
     "data": {
      "text/plain": "              Open         High          Low        Close        Volume\ncount  1762.000000  1762.000000  1762.000000  1762.000000  1.762000e+03\nmean    313.074500   315.910814   309.824105   312.926818  2.819498e+07\nstd     185.301563   186.898629   183.374468   185.147360  2.006877e+07\nmin      90.000000    90.700000    89.470000    90.280000  5.624800e+06\n25%     115.222500   116.362500   114.002500   115.190000  1.379790e+07\n50%     318.230000   320.600000   316.545000   318.240000  2.177095e+07\n75%     470.880000   478.110000   467.973500   472.592500  3.700019e+07\nmax     702.410000   705.070000   699.570000   702.100000  1.895606e+08",
      "text/html": "<div>\n<style scoped>\n    .dataframe tbody tr th:only-of-type {\n        vertical-align: middle;\n    }\n\n    .dataframe tbody tr th {\n        vertical-align: top;\n    }\n\n    .dataframe thead th {\n        text-align: right;\n    }\n</style>\n<table border=\"1\" class=\"dataframe\">\n  <thead>\n    <tr style=\"text-align: right;\">\n      <th></th>\n      <th>Open</th>\n      <th>High</th>\n      <th>Low</th>\n      <th>Close</th>\n      <th>Volume</th>\n    </tr>\n  </thead>\n  <tbody>\n    <tr>\n      <th>count</th>\n      <td>1762.000000</td>\n      <td>1762.000000</td>\n      <td>1762.000000</td>\n      <td>1762.000000</td>\n      <td>1.762000e+03</td>\n    </tr>\n    <tr>\n      <th>mean</th>\n      <td>313.074500</td>\n      <td>315.910814</td>\n      <td>309.824105</td>\n      <td>312.926818</td>\n      <td>2.819498e+07</td>\n    </tr>\n    <tr>\n      <th>std</th>\n      <td>185.301563</td>\n      <td>186.898629</td>\n      <td>183.374468</td>\n      <td>185.147360</td>\n      <td>2.006877e+07</td>\n    </tr>\n    <tr>\n      <th>min</th>\n      <td>90.000000</td>\n      <td>90.700000</td>\n      <td>89.470000</td>\n      <td>90.280000</td>\n      <td>5.624800e+06</td>\n    </tr>\n    <tr>\n      <th>25%</th>\n      <td>115.222500</td>\n      <td>116.362500</td>\n      <td>114.002500</td>\n      <td>115.190000</td>\n      <td>1.379790e+07</td>\n    </tr>\n    <tr>\n      <th>50%</th>\n      <td>318.230000</td>\n      <td>320.600000</td>\n      <td>316.545000</td>\n      <td>318.240000</td>\n      <td>2.177095e+07</td>\n    </tr>\n    <tr>\n      <th>75%</th>\n      <td>470.880000</td>\n      <td>478.110000</td>\n      <td>467.973500</td>\n      <td>472.592500</td>\n      <td>3.700019e+07</td>\n    </tr>\n    <tr>\n      <th>max</th>\n      <td>702.410000</td>\n      <td>705.070000</td>\n      <td>699.570000</td>\n      <td>702.100000</td>\n      <td>1.895606e+08</td>\n    </tr>\n  </tbody>\n</table>\n</div>"
     },
     "metadata": {},
     "execution_count": 6
    }
   ],
   "source": [
    "a.describe()"
   ]
  },
  {
   "cell_type": "code",
   "execution_count": 7,
   "metadata": {},
   "outputs": [
    {
     "output_type": "execute_result",
     "data": {
      "text/plain": "              Open         High          Low        Close        Volume\ncount  1762.000000  1762.000000  1762.000000  1762.000000  1.762000e+03\nmean    313.074500   315.910814   309.824105   312.926818  2.819498e+07\nstd     185.301563   186.898629   183.374468   185.147360  2.006877e+07\nmin      90.000000    90.700000    89.470000    90.280000  5.624800e+06\n10%     100.581000   101.592990    99.878000   100.862900  1.010140e+07\n50%     318.230000   320.600000   316.545000   318.240000  2.177095e+07\n70%     437.979000   443.560600   433.155000   438.773000  3.348607e+07\nmax     702.410000   705.070000   699.570000   702.100000  1.895606e+08",
      "text/html": "<div>\n<style scoped>\n    .dataframe tbody tr th:only-of-type {\n        vertical-align: middle;\n    }\n\n    .dataframe tbody tr th {\n        vertical-align: top;\n    }\n\n    .dataframe thead th {\n        text-align: right;\n    }\n</style>\n<table border=\"1\" class=\"dataframe\">\n  <thead>\n    <tr style=\"text-align: right;\">\n      <th></th>\n      <th>Open</th>\n      <th>High</th>\n      <th>Low</th>\n      <th>Close</th>\n      <th>Volume</th>\n    </tr>\n  </thead>\n  <tbody>\n    <tr>\n      <th>count</th>\n      <td>1762.000000</td>\n      <td>1762.000000</td>\n      <td>1762.000000</td>\n      <td>1762.000000</td>\n      <td>1.762000e+03</td>\n    </tr>\n    <tr>\n      <th>mean</th>\n      <td>313.074500</td>\n      <td>315.910814</td>\n      <td>309.824105</td>\n      <td>312.926818</td>\n      <td>2.819498e+07</td>\n    </tr>\n    <tr>\n      <th>std</th>\n      <td>185.301563</td>\n      <td>186.898629</td>\n      <td>183.374468</td>\n      <td>185.147360</td>\n      <td>2.006877e+07</td>\n    </tr>\n    <tr>\n      <th>min</th>\n      <td>90.000000</td>\n      <td>90.700000</td>\n      <td>89.470000</td>\n      <td>90.280000</td>\n      <td>5.624800e+06</td>\n    </tr>\n    <tr>\n      <th>10%</th>\n      <td>100.581000</td>\n      <td>101.592990</td>\n      <td>99.878000</td>\n      <td>100.862900</td>\n      <td>1.010140e+07</td>\n    </tr>\n    <tr>\n      <th>50%</th>\n      <td>318.230000</td>\n      <td>320.600000</td>\n      <td>316.545000</td>\n      <td>318.240000</td>\n      <td>2.177095e+07</td>\n    </tr>\n    <tr>\n      <th>70%</th>\n      <td>437.979000</td>\n      <td>443.560600</td>\n      <td>433.155000</td>\n      <td>438.773000</td>\n      <td>3.348607e+07</td>\n    </tr>\n    <tr>\n      <th>max</th>\n      <td>702.410000</td>\n      <td>705.070000</td>\n      <td>699.570000</td>\n      <td>702.100000</td>\n      <td>1.895606e+08</td>\n    </tr>\n  </tbody>\n</table>\n</div>"
     },
     "metadata": {},
     "execution_count": 7
    }
   ],
   "source": [
    "a.describe(percentiles=[.1,.5,.7]) #use percentiles to obtain the required percentage You need by feeding the values to the list"
   ]
  },
  {
   "cell_type": "code",
   "execution_count": 8,
   "metadata": {},
   "outputs": [
    {
     "output_type": "execute_result",
     "data": {
      "text/plain": "    gender NationalITy PlaceofBirth       StageID GradeID SectionID  \\\n0        M          KW       KuwaIT    lowerlevel    G-04         A   \n1        M          KW       KuwaIT    lowerlevel    G-04         A   \n2        M          KW       KuwaIT    lowerlevel    G-04         A   \n3        M          KW       KuwaIT    lowerlevel    G-04         A   \n4        M          KW       KuwaIT    lowerlevel    G-04         A   \n..     ...         ...          ...           ...     ...       ...   \n475      F      Jordan       Jordan  MiddleSchool    G-08         A   \n476      F      Jordan       Jordan  MiddleSchool    G-08         A   \n477      F      Jordan       Jordan  MiddleSchool    G-08         A   \n478      F      Jordan       Jordan  MiddleSchool    G-08         A   \n479      F      Jordan       Jordan  MiddleSchool    G-08         A   \n\n         Topic Semester Relation  raisedhands  VisITedResources  \\\n0           IT        F   Father           15                16   \n1           IT        F   Father           20                20   \n2           IT        F   Father           10                 7   \n3           IT        F   Father           30                25   \n4           IT        F   Father           40                50   \n..         ...      ...      ...          ...               ...   \n475  Chemistry        S   Father            5                 4   \n476    Geology        F   Father           50                77   \n477    Geology        S   Father           55                74   \n478    History        F   Father           30                17   \n479    History        S   Father           35                14   \n\n     AnnouncementsView  Discussion ParentAnsweringSurvey  \\\n0                    2          20                   Yes   \n1                    3          25                   Yes   \n2                    0          30                    No   \n3                    5          35                    No   \n4                   12          50                    No   \n..                 ...         ...                   ...   \n475                  5           8                    No   \n476                 14          28                    No   \n477                 25          29                    No   \n478                 14          57                    No   \n479                 23          62                    No   \n\n    ParentschoolSatisfaction StudentAbsenceDays Class  \n0                       Good            Under-7     M  \n1                       Good            Under-7     M  \n2                        Bad            Above-7     L  \n3                        Bad            Above-7     L  \n4                        Bad            Above-7     M  \n..                       ...                ...   ...  \n475                      Bad            Above-7     L  \n476                      Bad            Under-7     M  \n477                      Bad            Under-7     M  \n478                      Bad            Above-7     L  \n479                      Bad            Above-7     L  \n\n[480 rows x 17 columns]",
      "text/html": "<div>\n<style scoped>\n    .dataframe tbody tr th:only-of-type {\n        vertical-align: middle;\n    }\n\n    .dataframe tbody tr th {\n        vertical-align: top;\n    }\n\n    .dataframe thead th {\n        text-align: right;\n    }\n</style>\n<table border=\"1\" class=\"dataframe\">\n  <thead>\n    <tr style=\"text-align: right;\">\n      <th></th>\n      <th>gender</th>\n      <th>NationalITy</th>\n      <th>PlaceofBirth</th>\n      <th>StageID</th>\n      <th>GradeID</th>\n      <th>SectionID</th>\n      <th>Topic</th>\n      <th>Semester</th>\n      <th>Relation</th>\n      <th>raisedhands</th>\n      <th>VisITedResources</th>\n      <th>AnnouncementsView</th>\n      <th>Discussion</th>\n      <th>ParentAnsweringSurvey</th>\n      <th>ParentschoolSatisfaction</th>\n      <th>StudentAbsenceDays</th>\n      <th>Class</th>\n    </tr>\n  </thead>\n  <tbody>\n    <tr>\n      <th>0</th>\n      <td>M</td>\n      <td>KW</td>\n      <td>KuwaIT</td>\n      <td>lowerlevel</td>\n      <td>G-04</td>\n      <td>A</td>\n      <td>IT</td>\n      <td>F</td>\n      <td>Father</td>\n      <td>15</td>\n      <td>16</td>\n      <td>2</td>\n      <td>20</td>\n      <td>Yes</td>\n      <td>Good</td>\n      <td>Under-7</td>\n      <td>M</td>\n    </tr>\n    <tr>\n      <th>1</th>\n      <td>M</td>\n      <td>KW</td>\n      <td>KuwaIT</td>\n      <td>lowerlevel</td>\n      <td>G-04</td>\n      <td>A</td>\n      <td>IT</td>\n      <td>F</td>\n      <td>Father</td>\n      <td>20</td>\n      <td>20</td>\n      <td>3</td>\n      <td>25</td>\n      <td>Yes</td>\n      <td>Good</td>\n      <td>Under-7</td>\n      <td>M</td>\n    </tr>\n    <tr>\n      <th>2</th>\n      <td>M</td>\n      <td>KW</td>\n      <td>KuwaIT</td>\n      <td>lowerlevel</td>\n      <td>G-04</td>\n      <td>A</td>\n      <td>IT</td>\n      <td>F</td>\n      <td>Father</td>\n      <td>10</td>\n      <td>7</td>\n      <td>0</td>\n      <td>30</td>\n      <td>No</td>\n      <td>Bad</td>\n      <td>Above-7</td>\n      <td>L</td>\n    </tr>\n    <tr>\n      <th>3</th>\n      <td>M</td>\n      <td>KW</td>\n      <td>KuwaIT</td>\n      <td>lowerlevel</td>\n      <td>G-04</td>\n      <td>A</td>\n      <td>IT</td>\n      <td>F</td>\n      <td>Father</td>\n      <td>30</td>\n      <td>25</td>\n      <td>5</td>\n      <td>35</td>\n      <td>No</td>\n      <td>Bad</td>\n      <td>Above-7</td>\n      <td>L</td>\n    </tr>\n    <tr>\n      <th>4</th>\n      <td>M</td>\n      <td>KW</td>\n      <td>KuwaIT</td>\n      <td>lowerlevel</td>\n      <td>G-04</td>\n      <td>A</td>\n      <td>IT</td>\n      <td>F</td>\n      <td>Father</td>\n      <td>40</td>\n      <td>50</td>\n      <td>12</td>\n      <td>50</td>\n      <td>No</td>\n      <td>Bad</td>\n      <td>Above-7</td>\n      <td>M</td>\n    </tr>\n    <tr>\n      <th>...</th>\n      <td>...</td>\n      <td>...</td>\n      <td>...</td>\n      <td>...</td>\n      <td>...</td>\n      <td>...</td>\n      <td>...</td>\n      <td>...</td>\n      <td>...</td>\n      <td>...</td>\n      <td>...</td>\n      <td>...</td>\n      <td>...</td>\n      <td>...</td>\n      <td>...</td>\n      <td>...</td>\n      <td>...</td>\n    </tr>\n    <tr>\n      <th>475</th>\n      <td>F</td>\n      <td>Jordan</td>\n      <td>Jordan</td>\n      <td>MiddleSchool</td>\n      <td>G-08</td>\n      <td>A</td>\n      <td>Chemistry</td>\n      <td>S</td>\n      <td>Father</td>\n      <td>5</td>\n      <td>4</td>\n      <td>5</td>\n      <td>8</td>\n      <td>No</td>\n      <td>Bad</td>\n      <td>Above-7</td>\n      <td>L</td>\n    </tr>\n    <tr>\n      <th>476</th>\n      <td>F</td>\n      <td>Jordan</td>\n      <td>Jordan</td>\n      <td>MiddleSchool</td>\n      <td>G-08</td>\n      <td>A</td>\n      <td>Geology</td>\n      <td>F</td>\n      <td>Father</td>\n      <td>50</td>\n      <td>77</td>\n      <td>14</td>\n      <td>28</td>\n      <td>No</td>\n      <td>Bad</td>\n      <td>Under-7</td>\n      <td>M</td>\n    </tr>\n    <tr>\n      <th>477</th>\n      <td>F</td>\n      <td>Jordan</td>\n      <td>Jordan</td>\n      <td>MiddleSchool</td>\n      <td>G-08</td>\n      <td>A</td>\n      <td>Geology</td>\n      <td>S</td>\n      <td>Father</td>\n      <td>55</td>\n      <td>74</td>\n      <td>25</td>\n      <td>29</td>\n      <td>No</td>\n      <td>Bad</td>\n      <td>Under-7</td>\n      <td>M</td>\n    </tr>\n    <tr>\n      <th>478</th>\n      <td>F</td>\n      <td>Jordan</td>\n      <td>Jordan</td>\n      <td>MiddleSchool</td>\n      <td>G-08</td>\n      <td>A</td>\n      <td>History</td>\n      <td>F</td>\n      <td>Father</td>\n      <td>30</td>\n      <td>17</td>\n      <td>14</td>\n      <td>57</td>\n      <td>No</td>\n      <td>Bad</td>\n      <td>Above-7</td>\n      <td>L</td>\n    </tr>\n    <tr>\n      <th>479</th>\n      <td>F</td>\n      <td>Jordan</td>\n      <td>Jordan</td>\n      <td>MiddleSchool</td>\n      <td>G-08</td>\n      <td>A</td>\n      <td>History</td>\n      <td>S</td>\n      <td>Father</td>\n      <td>35</td>\n      <td>14</td>\n      <td>23</td>\n      <td>62</td>\n      <td>No</td>\n      <td>Bad</td>\n      <td>Above-7</td>\n      <td>L</td>\n    </tr>\n  </tbody>\n</table>\n<p>480 rows × 17 columns</p>\n</div>"
     },
     "metadata": {},
     "execution_count": 8
    }
   ],
   "source": [
    "pd.read_csv('https://raw.githubusercontent.com/RakeshKrishna143/Pandas-Tutorial/master/Mark%20Dataset.csv')"
   ]
  },
  {
   "cell_type": "code",
   "execution_count": 9,
   "metadata": {},
   "outputs": [],
   "source": [
    "m = pd.read_csv('https://raw.githubusercontent.com/RakeshKrishna143/Pandas-Tutorial/master/Mark%20Dataset.csv')"
   ]
  },
  {
   "cell_type": "code",
   "execution_count": 10,
   "metadata": {},
   "outputs": [
    {
     "output_type": "execute_result",
     "data": {
      "text/plain": "       raisedhands  VisITedResources  AnnouncementsView  Discussion\ncount   480.000000        480.000000         480.000000  480.000000\nmean     46.775000         54.797917          37.918750   43.283333\nstd      30.779223         33.080007          26.611244   27.637735\nmin       0.000000          0.000000           0.000000    1.000000\n25%      15.750000         20.000000          14.000000   20.000000\n50%      50.000000         65.000000          33.000000   39.000000\n75%      75.000000         84.000000          58.000000   70.000000\nmax     100.000000         99.000000          98.000000   99.000000",
      "text/html": "<div>\n<style scoped>\n    .dataframe tbody tr th:only-of-type {\n        vertical-align: middle;\n    }\n\n    .dataframe tbody tr th {\n        vertical-align: top;\n    }\n\n    .dataframe thead th {\n        text-align: right;\n    }\n</style>\n<table border=\"1\" class=\"dataframe\">\n  <thead>\n    <tr style=\"text-align: right;\">\n      <th></th>\n      <th>raisedhands</th>\n      <th>VisITedResources</th>\n      <th>AnnouncementsView</th>\n      <th>Discussion</th>\n    </tr>\n  </thead>\n  <tbody>\n    <tr>\n      <th>count</th>\n      <td>480.000000</td>\n      <td>480.000000</td>\n      <td>480.000000</td>\n      <td>480.000000</td>\n    </tr>\n    <tr>\n      <th>mean</th>\n      <td>46.775000</td>\n      <td>54.797917</td>\n      <td>37.918750</td>\n      <td>43.283333</td>\n    </tr>\n    <tr>\n      <th>std</th>\n      <td>30.779223</td>\n      <td>33.080007</td>\n      <td>26.611244</td>\n      <td>27.637735</td>\n    </tr>\n    <tr>\n      <th>min</th>\n      <td>0.000000</td>\n      <td>0.000000</td>\n      <td>0.000000</td>\n      <td>1.000000</td>\n    </tr>\n    <tr>\n      <th>25%</th>\n      <td>15.750000</td>\n      <td>20.000000</td>\n      <td>14.000000</td>\n      <td>20.000000</td>\n    </tr>\n    <tr>\n      <th>50%</th>\n      <td>50.000000</td>\n      <td>65.000000</td>\n      <td>33.000000</td>\n      <td>39.000000</td>\n    </tr>\n    <tr>\n      <th>75%</th>\n      <td>75.000000</td>\n      <td>84.000000</td>\n      <td>58.000000</td>\n      <td>70.000000</td>\n    </tr>\n    <tr>\n      <th>max</th>\n      <td>100.000000</td>\n      <td>99.000000</td>\n      <td>98.000000</td>\n      <td>99.000000</td>\n    </tr>\n  </tbody>\n</table>\n</div>"
     },
     "metadata": {},
     "execution_count": 10
    }
   ],
   "source": [
    "m.describe()"
   ]
  },
  {
   "cell_type": "code",
   "execution_count": 11,
   "metadata": {},
   "outputs": [
    {
     "output_type": "execute_result",
     "data": {
      "text/plain": "gender                      object\nNationalITy                 object\nPlaceofBirth                object\nStageID                     object\nGradeID                     object\nSectionID                   object\nTopic                       object\nSemester                    object\nRelation                    object\nraisedhands                  int64\nVisITedResources             int64\nAnnouncementsView            int64\nDiscussion                   int64\nParentAnsweringSurvey       object\nParentschoolSatisfaction    object\nStudentAbsenceDays          object\nClass                       object\ndtype: object"
     },
     "metadata": {},
     "execution_count": 11
    }
   ],
   "source": [
    "m.dtypes"
   ]
  },
  {
   "cell_type": "code",
   "execution_count": 12,
   "metadata": {},
   "outputs": [
    {
     "output_type": "execute_result",
     "data": {
      "text/plain": "       gender NationalITy PlaceofBirth       StageID GradeID SectionID Topic  \\\ncount     480         480          480           480     480       480   480   \nunique      2          14           14             3      10         3    12   \ntop         M          KW       KuwaIT  MiddleSchool    G-02         A    IT   \nfreq      305         179          180           248     147       283    95   \n\n       Semester Relation ParentAnsweringSurvey ParentschoolSatisfaction  \\\ncount       480      480                   480                      480   \nunique        2        2                     2                        2   \ntop           F   Father                   Yes                     Good   \nfreq        245      283                   270                      292   \n\n       StudentAbsenceDays Class  \ncount                 480   480  \nunique                  2     3  \ntop               Under-7     M  \nfreq                  289   211  ",
      "text/html": "<div>\n<style scoped>\n    .dataframe tbody tr th:only-of-type {\n        vertical-align: middle;\n    }\n\n    .dataframe tbody tr th {\n        vertical-align: top;\n    }\n\n    .dataframe thead th {\n        text-align: right;\n    }\n</style>\n<table border=\"1\" class=\"dataframe\">\n  <thead>\n    <tr style=\"text-align: right;\">\n      <th></th>\n      <th>gender</th>\n      <th>NationalITy</th>\n      <th>PlaceofBirth</th>\n      <th>StageID</th>\n      <th>GradeID</th>\n      <th>SectionID</th>\n      <th>Topic</th>\n      <th>Semester</th>\n      <th>Relation</th>\n      <th>ParentAnsweringSurvey</th>\n      <th>ParentschoolSatisfaction</th>\n      <th>StudentAbsenceDays</th>\n      <th>Class</th>\n    </tr>\n  </thead>\n  <tbody>\n    <tr>\n      <th>count</th>\n      <td>480</td>\n      <td>480</td>\n      <td>480</td>\n      <td>480</td>\n      <td>480</td>\n      <td>480</td>\n      <td>480</td>\n      <td>480</td>\n      <td>480</td>\n      <td>480</td>\n      <td>480</td>\n      <td>480</td>\n      <td>480</td>\n    </tr>\n    <tr>\n      <th>unique</th>\n      <td>2</td>\n      <td>14</td>\n      <td>14</td>\n      <td>3</td>\n      <td>10</td>\n      <td>3</td>\n      <td>12</td>\n      <td>2</td>\n      <td>2</td>\n      <td>2</td>\n      <td>2</td>\n      <td>2</td>\n      <td>3</td>\n    </tr>\n    <tr>\n      <th>top</th>\n      <td>M</td>\n      <td>KW</td>\n      <td>KuwaIT</td>\n      <td>MiddleSchool</td>\n      <td>G-02</td>\n      <td>A</td>\n      <td>IT</td>\n      <td>F</td>\n      <td>Father</td>\n      <td>Yes</td>\n      <td>Good</td>\n      <td>Under-7</td>\n      <td>M</td>\n    </tr>\n    <tr>\n      <th>freq</th>\n      <td>305</td>\n      <td>179</td>\n      <td>180</td>\n      <td>248</td>\n      <td>147</td>\n      <td>283</td>\n      <td>95</td>\n      <td>245</td>\n      <td>283</td>\n      <td>270</td>\n      <td>292</td>\n      <td>289</td>\n      <td>211</td>\n    </tr>\n  </tbody>\n</table>\n</div>"
     },
     "metadata": {},
     "execution_count": 12
    }
   ],
   "source": [
    "m.describe(include=['object'])  #If you want to work with String (object) typed columns Use includes"
   ]
  },
  {
   "cell_type": "code",
   "execution_count": 13,
   "metadata": {},
   "outputs": [],
   "source": [
    "# count specifies the number of string present in each column\n",
    "#unique specifies the number of string present without any duplicate values\n",
    "# top specifies the string with more number of occurrences\n",
    "# freq specifies the number of occurrence of the top string present in the column"
   ]
  },
  {
   "cell_type": "code",
   "execution_count": null,
   "metadata": {},
   "outputs": [],
   "source": [
    "#The github link for this notebok is in the description"
   ]
  }
 ]
}